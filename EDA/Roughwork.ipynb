{
 "cells": [
  {
   "cell_type": "code",
   "execution_count": 2,
   "id": "d3dc11a2",
   "metadata": {},
   "outputs": [],
   "source": [
    "import pandas as pd\n"
   ]
  },
  {
   "cell_type": "code",
   "execution_count": 9,
   "id": "13bd7e11",
   "metadata": {},
   "outputs": [
    {
     "name": "stdout",
     "output_type": "stream",
     "text": [
      "Enter the locationC:\\Users\\david\\Data_Sciences\\ML\\INeuron\\sensor_fault_detection\\predict_files\\sensor_predictions.csv\n"
     ]
    }
   ],
   "source": [
    "file_location = input(\"Enter the location\")"
   ]
  },
  {
   "cell_type": "code",
   "execution_count": 10,
   "id": "793b9085",
   "metadata": {},
   "outputs": [],
   "source": [
    "file_location = str(file_location)"
   ]
  },
  {
   "cell_type": "code",
   "execution_count": 11,
   "id": "1d639f76",
   "metadata": {},
   "outputs": [],
   "source": [
    "pred =pd.read_csv(file_location)"
   ]
  },
  {
   "cell_type": "code",
   "execution_count": 7,
   "id": "18edef76",
   "metadata": {},
   "outputs": [],
   "source": [
    "test = test['class']"
   ]
  },
  {
   "cell_type": "code",
   "execution_count": 8,
   "id": "6c1137a5",
   "metadata": {},
   "outputs": [
    {
     "data": {
      "text/plain": [
       "0       neg\n",
       "1       neg\n",
       "2       neg\n",
       "3       neg\n",
       "4       neg\n",
       "       ... \n",
       "7233    neg\n",
       "7234    neg\n",
       "7235    neg\n",
       "7236    neg\n",
       "7237    neg\n",
       "Name: class, Length: 7238, dtype: object"
      ]
     },
     "execution_count": 8,
     "metadata": {},
     "output_type": "execute_result"
    }
   ],
   "source": [
    "test"
   ]
  },
  {
   "cell_type": "code",
   "execution_count": 5,
   "id": "093dc594",
   "metadata": {},
   "outputs": [
    {
     "data": {
      "text/plain": [
       "1"
      ]
     },
     "execution_count": 5,
     "metadata": {},
     "output_type": "execute_result"
    }
   ],
   "source": [
    "data.get('key')"
   ]
  },
  {
   "cell_type": "code",
   "execution_count": 13,
   "id": "c5f5da54",
   "metadata": {},
   "outputs": [],
   "source": [
    "pred=pred['predicted_column']"
   ]
  },
  {
   "cell_type": "code",
   "execution_count": 14,
   "id": "22e9270e",
   "metadata": {},
   "outputs": [
    {
     "data": {
      "text/plain": [
       "0       neg\n",
       "1       neg\n",
       "2       neg\n",
       "3       neg\n",
       "4       neg\n",
       "       ... \n",
       "7233    neg\n",
       "7234    neg\n",
       "7235    neg\n",
       "7236    neg\n",
       "7237    neg\n",
       "Name: predicted_column, Length: 7238, dtype: object"
      ]
     },
     "execution_count": 14,
     "metadata": {},
     "output_type": "execute_result"
    }
   ],
   "source": [
    "pred"
   ]
  },
  {
   "cell_type": "code",
   "execution_count": 15,
   "id": "6971417c",
   "metadata": {},
   "outputs": [],
   "source": [
    "from sklearn.metrics import confusion_matrix"
   ]
  },
  {
   "cell_type": "code",
   "execution_count": 17,
   "id": "d13105d3",
   "metadata": {},
   "outputs": [],
   "source": [
    "cm=confusion_matrix(test,pred)"
   ]
  },
  {
   "cell_type": "code",
   "execution_count": 18,
   "id": "021e0c28",
   "metadata": {},
   "outputs": [
    {
     "data": {
      "text/plain": [
       "array([[7029,    6],\n",
       "       [   6,  197]], dtype=int64)"
      ]
     },
     "execution_count": 18,
     "metadata": {},
     "output_type": "execute_result"
    }
   ],
   "source": [
    "cm"
   ]
  },
  {
   "cell_type": "code",
   "execution_count": 25,
   "id": "47b7d301",
   "metadata": {},
   "outputs": [],
   "source": [
    "from sklearn import metrics"
   ]
  },
  {
   "cell_type": "code",
   "execution_count": 26,
   "id": "6aabaf2f",
   "metadata": {},
   "outputs": [],
   "source": [
    "cm_display = metrics.ConfusionMatrixDisplay(confusion_matrix = cm, display_labels = [False, True])"
   ]
  },
  {
   "cell_type": "code",
   "execution_count": 28,
   "id": "da467aff",
   "metadata": {},
   "outputs": [
    {
     "data": {
      "text/plain": [
       "<sklearn.metrics._plot.confusion_matrix.ConfusionMatrixDisplay at 0x27238a2bd00>"
      ]
     },
     "execution_count": 28,
     "metadata": {},
     "output_type": "execute_result"
    },
    {
     "data": {
      "image/png": "[encoded data removed]",
      "text/plain": [
       "<Figure size 640x480 with 2 Axes>"
      ]
     },
     "metadata": {},
     "output_type": "display_data"
    }
   ],
   "source": [
    "cm_display.plot()"
   ]
  },
  {
   "cell_type": "code",
   "execution_count": 29,
   "id": "5b3d606f",
   "metadata": {},
   "outputs": [],
   "source": [
    "from sklearn.metrics import classification_report"
   ]
  },
  {
   "cell_type": "code",
   "execution_count": 31,
   "id": "c8c8a74d",
   "metadata": {},
   "outputs": [
    {
     "data": {
      "text/plain": [
       "{'neg': {'precision': 0.9991471215351813,\n",
       "  'recall': 0.9991471215351813,\n",
       "  'f1-score': 0.9991471215351813,\n",
       "  'support': 7035},\n",
       " 'pos': {'precision': 0.9704433497536946,\n",
       "  'recall': 0.9704433497536946,\n",
       "  'f1-score': 0.9704433497536946,\n",
       "  'support': 203},\n",
       " 'accuracy': 0.9983420834484664,\n",
       " 'macro avg': {'precision': 0.9847952356444379,\n",
       "  'recall': 0.9847952356444379,\n",
       "  'f1-score': 0.9847952356444379,\n",
       "  'support': 7238},\n",
       " 'weighted avg': {'precision': 0.9983420834484664,\n",
       "  'recall': 0.9983420834484664,\n",
       "  'f1-score': 0.9983420834484664,\n",
       "  'support': 7238}}"
      ]
     },
     "execution_count": 31,
     "metadata": {},
     "output_type": "execute_result"
    }
   ],
   "source": [
    "classification_report(test,pred,output_dict=True)"
   ]
  },
  {
   "cell_type": "code",
   "execution_count": null,
   "id": "afa18706",
   "metadata": {},
   "outputs": [],
   "source": []
  }
 ],
 "metadata": {
  "kernelspec": {
   "display_name": "Python 3 (ipykernel)",
   "language": "python",
   "name": "python3"
  },
  "language_info": {
   "codemirror_mode": {
    "name": "ipython",
    "version": 3
   },
   "file_extension": ".py",
   "mimetype": "text/x-python",
   "name": "python",
   "nbconvert_exporter": "python",
   "pygments_lexer": "ipython3",
   "version": "3.9.13"
  }
 },
 "nbformat": 4,
 "nbformat_minor": 5
}
